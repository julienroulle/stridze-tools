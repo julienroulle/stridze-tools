{
 "cells": [
  {
   "cell_type": "code",
   "execution_count": 1,
   "metadata": {},
   "outputs": [],
   "source": [
    "%load_ext autoreload\n",
    "%autoreload 2"
   ]
  },
  {
   "cell_type": "code",
   "execution_count": 2,
   "metadata": {},
   "outputs": [],
   "source": [
    "import pandas as pd\n",
    "from db import get_session"
   ]
  },
  {
   "cell_type": "code",
   "execution_count": 11,
   "metadata": {},
   "outputs": [],
   "source": [
    "db = get_session()\n",
    "df = pd.read_sql_table('activities', db.get_bind())"
   ]
  },
  {
   "cell_type": "code",
   "execution_count": 12,
   "metadata": {},
   "outputs": [],
   "source": [
    "from src.vdot import user_VDOT"
   ]
  },
  {
   "cell_type": "code",
   "execution_count": 13,
   "metadata": {},
   "outputs": [],
   "source": [
    "df['vdot'] = df.apply(lambda row: user_VDOT(row['distance'] / 1.01, 'meters', row['elapsed_time'] / 60.), axis=1)"
   ]
  },
  {
   "cell_type": "code",
   "execution_count": 14,
   "metadata": {},
   "outputs": [
    {
     "data": {
      "text/html": [
       "<div>\n",
       "<style scoped>\n",
       "    .dataframe tbody tr th:only-of-type {\n",
       "        vertical-align: middle;\n",
       "    }\n",
       "\n",
       "    .dataframe tbody tr th {\n",
       "        vertical-align: top;\n",
       "    }\n",
       "\n",
       "    .dataframe thead th {\n",
       "        text-align: right;\n",
       "    }\n",
       "</style>\n",
       "<table border=\"1\" class=\"dataframe\">\n",
       "  <thead>\n",
       "    <tr style=\"text-align: right;\">\n",
       "      <th></th>\n",
       "      <th>id</th>\n",
       "      <th>vdot</th>\n",
       "    </tr>\n",
       "  </thead>\n",
       "  <tbody>\n",
       "    <tr>\n",
       "      <th>941</th>\n",
       "      <td>10953235861</td>\n",
       "      <td>60.001967</td>\n",
       "    </tr>\n",
       "    <tr>\n",
       "      <th>884</th>\n",
       "      <td>10633812362</td>\n",
       "      <td>59.132547</td>\n",
       "    </tr>\n",
       "    <tr>\n",
       "      <th>829</th>\n",
       "      <td>10357480869</td>\n",
       "      <td>58.775989</td>\n",
       "    </tr>\n",
       "    <tr>\n",
       "      <th>593</th>\n",
       "      <td>8511208212</td>\n",
       "      <td>58.719264</td>\n",
       "    </tr>\n",
       "    <tr>\n",
       "      <th>762</th>\n",
       "      <td>9971090272</td>\n",
       "      <td>57.805868</td>\n",
       "    </tr>\n",
       "    <tr>\n",
       "      <th>609</th>\n",
       "      <td>8614396249</td>\n",
       "      <td>56.358998</td>\n",
       "    </tr>\n",
       "    <tr>\n",
       "      <th>579</th>\n",
       "      <td>8427818299</td>\n",
       "      <td>55.274800</td>\n",
       "    </tr>\n",
       "    <tr>\n",
       "      <th>746</th>\n",
       "      <td>9803600648</td>\n",
       "      <td>53.547831</td>\n",
       "    </tr>\n",
       "    <tr>\n",
       "      <th>933</th>\n",
       "      <td>10916100958</td>\n",
       "      <td>51.500429</td>\n",
       "    </tr>\n",
       "    <tr>\n",
       "      <th>401</th>\n",
       "      <td>6982070799</td>\n",
       "      <td>51.397551</td>\n",
       "    </tr>\n",
       "  </tbody>\n",
       "</table>\n",
       "</div>"
      ],
      "text/plain": [
       "              id       vdot\n",
       "941  10953235861  60.001967\n",
       "884  10633812362  59.132547\n",
       "829  10357480869  58.775989\n",
       "593   8511208212  58.719264\n",
       "762   9971090272  57.805868\n",
       "609   8614396249  56.358998\n",
       "579   8427818299  55.274800\n",
       "746   9803600648  53.547831\n",
       "933  10916100958  51.500429\n",
       "401   6982070799  51.397551"
      ]
     },
     "execution_count": 14,
     "metadata": {},
     "output_type": "execute_result"
    }
   ],
   "source": [
    "df[['id', 'vdot']].sort_values(by='vdot', ascending=False).head(10)"
   ]
  },
  {
   "cell_type": "code",
   "execution_count": 54,
   "metadata": {},
   "outputs": [],
   "source": [
    "from src.vdot import percent_vo2max_to_percent_hrr, percent_hrr_to_percent_vo2max\n",
    "\n",
    "FCM = 192 - 0.007 * 28 ** 2\n",
    "FCR = 44\n",
    "\n",
    "df['hr_adjusted_vdot'] = df.apply(lambda row: row['vdot'] * 100 / percent_hrr_to_percent_vo2max((row['average_heart_rate'] - FCR) / (FCM - FCR) * 100) , axis=1)"
   ]
  },
  {
   "cell_type": "code",
   "execution_count": 55,
   "metadata": {},
   "outputs": [
    {
     "data": {
      "text/html": [
       "<div>\n",
       "<style scoped>\n",
       "    .dataframe tbody tr th:only-of-type {\n",
       "        vertical-align: middle;\n",
       "    }\n",
       "\n",
       "    .dataframe tbody tr th {\n",
       "        vertical-align: top;\n",
       "    }\n",
       "\n",
       "    .dataframe thead th {\n",
       "        text-align: right;\n",
       "    }\n",
       "</style>\n",
       "<table border=\"1\" class=\"dataframe\">\n",
       "  <thead>\n",
       "    <tr style=\"text-align: right;\">\n",
       "      <th></th>\n",
       "      <th>id</th>\n",
       "      <th>vdot</th>\n",
       "      <th>hr_adjusted_vdot</th>\n",
       "    </tr>\n",
       "  </thead>\n",
       "  <tbody>\n",
       "    <tr>\n",
       "      <th>978</th>\n",
       "      <td>11117427320</td>\n",
       "      <td>41.696389</td>\n",
       "      <td>70.062930</td>\n",
       "    </tr>\n",
       "    <tr>\n",
       "      <th>1044</th>\n",
       "      <td>11407758048</td>\n",
       "      <td>46.660036</td>\n",
       "      <td>69.627410</td>\n",
       "    </tr>\n",
       "    <tr>\n",
       "      <th>829</th>\n",
       "      <td>10357480869</td>\n",
       "      <td>58.775989</td>\n",
       "      <td>68.530084</td>\n",
       "    </tr>\n",
       "    <tr>\n",
       "      <th>715</th>\n",
       "      <td>9554500309</td>\n",
       "      <td>45.257216</td>\n",
       "      <td>68.298574</td>\n",
       "    </tr>\n",
       "    <tr>\n",
       "      <th>991</th>\n",
       "      <td>11159467295</td>\n",
       "      <td>43.993465</td>\n",
       "      <td>67.929357</td>\n",
       "    </tr>\n",
       "    <tr>\n",
       "      <th>746</th>\n",
       "      <td>9803600648</td>\n",
       "      <td>53.547831</td>\n",
       "      <td>67.768608</td>\n",
       "    </tr>\n",
       "    <tr>\n",
       "      <th>411</th>\n",
       "      <td>7058610723</td>\n",
       "      <td>48.863787</td>\n",
       "      <td>66.923137</td>\n",
       "    </tr>\n",
       "    <tr>\n",
       "      <th>415</th>\n",
       "      <td>7093278886</td>\n",
       "      <td>48.763020</td>\n",
       "      <td>66.785128</td>\n",
       "    </tr>\n",
       "    <tr>\n",
       "      <th>361</th>\n",
       "      <td>6724110729</td>\n",
       "      <td>42.051250</td>\n",
       "      <td>66.470182</td>\n",
       "    </tr>\n",
       "    <tr>\n",
       "      <th>475</th>\n",
       "      <td>7571368076</td>\n",
       "      <td>47.530970</td>\n",
       "      <td>66.463343</td>\n",
       "    </tr>\n",
       "  </tbody>\n",
       "</table>\n",
       "</div>"
      ],
      "text/plain": [
       "               id       vdot  hr_adjusted_vdot\n",
       "978   11117427320  41.696389         70.062930\n",
       "1044  11407758048  46.660036         69.627410\n",
       "829   10357480869  58.775989         68.530084\n",
       "715    9554500309  45.257216         68.298574\n",
       "991   11159467295  43.993465         67.929357\n",
       "746    9803600648  53.547831         67.768608\n",
       "411    7058610723  48.863787         66.923137\n",
       "415    7093278886  48.763020         66.785128\n",
       "361    6724110729  42.051250         66.470182\n",
       "475    7571368076  47.530970         66.463343"
      ]
     },
     "execution_count": 55,
     "metadata": {},
     "output_type": "execute_result"
    }
   ],
   "source": [
    "df[['id', 'vdot', 'hr_adjusted_vdot']].sort_values(by='hr_adjusted_vdot', ascending=False).head(10)"
   ]
  },
  {
   "cell_type": "code",
   "execution_count": 56,
   "metadata": {},
   "outputs": [
    {
     "data": {
      "text/plain": [
       "26.44875803381498"
      ]
     },
     "execution_count": 56,
     "metadata": {},
     "output_type": "execute_result"
    }
   ],
   "source": [
    "df.iloc[0].vdot / percent_hrr_to_percent_vo2max((df.iloc[0]['average_heart_rate'] - FCR) / (FCM - FCR) * 100) * 100"
   ]
  },
  {
   "cell_type": "code",
   "execution_count": 57,
   "metadata": {},
   "outputs": [
    {
     "data": {
      "text/html": [
       "<div>\n",
       "<style scoped>\n",
       "    .dataframe tbody tr th:only-of-type {\n",
       "        vertical-align: middle;\n",
       "    }\n",
       "\n",
       "    .dataframe tbody tr th {\n",
       "        vertical-align: top;\n",
       "    }\n",
       "\n",
       "    .dataframe thead th {\n",
       "        text-align: right;\n",
       "    }\n",
       "</style>\n",
       "<table border=\"1\" class=\"dataframe\">\n",
       "  <thead>\n",
       "    <tr style=\"text-align: right;\">\n",
       "      <th></th>\n",
       "      <th>id</th>\n",
       "      <th>user_id</th>\n",
       "      <th>elapsed_time</th>\n",
       "      <th>moving_time</th>\n",
       "      <th>distance</th>\n",
       "      <th>elevation_gain</th>\n",
       "      <th>elevation_loss</th>\n",
       "      <th>average_pace</th>\n",
       "      <th>average_moving_pace</th>\n",
       "      <th>average_cadence</th>\n",
       "      <th>average_heart_rate</th>\n",
       "      <th>max_heart_rate</th>\n",
       "      <th>average_stride_length</th>\n",
       "      <th>average_temperature</th>\n",
       "      <th>calories</th>\n",
       "      <th>vdot</th>\n",
       "      <th>hr_adjusted_vdot</th>\n",
       "    </tr>\n",
       "  </thead>\n",
       "  <tbody>\n",
       "    <tr>\n",
       "      <th>0</th>\n",
       "      <td>3458921386</td>\n",
       "      <td>1</td>\n",
       "      <td>1892</td>\n",
       "      <td>1856.0</td>\n",
       "      <td>4000</td>\n",
       "      <td>30.0</td>\n",
       "      <td>34.0</td>\n",
       "      <td>404</td>\n",
       "      <td>397.0</td>\n",
       "      <td>161.0</td>\n",
       "      <td>160.0</td>\n",
       "      <td>177.0</td>\n",
       "      <td>91.7405</td>\n",
       "      <td>NaN</td>\n",
       "      <td>423</td>\n",
       "      <td>21.493854</td>\n",
       "      <td>26.448758</td>\n",
       "    </tr>\n",
       "  </tbody>\n",
       "</table>\n",
       "</div>"
      ],
      "text/plain": [
       "           id  user_id  elapsed_time  moving_time  distance  elevation_gain  \\\n",
       "0  3458921386        1          1892       1856.0      4000            30.0   \n",
       "\n",
       "   elevation_loss  average_pace  average_moving_pace  average_cadence  \\\n",
       "0            34.0           404                397.0            161.0   \n",
       "\n",
       "   average_heart_rate  max_heart_rate  average_stride_length  \\\n",
       "0               160.0           177.0                91.7405   \n",
       "\n",
       "   average_temperature  calories       vdot  hr_adjusted_vdot  \n",
       "0                  NaN       423  21.493854         26.448758  "
      ]
     },
     "execution_count": 57,
     "metadata": {},
     "output_type": "execute_result"
    }
   ],
   "source": [
    "df.head(1)"
   ]
  },
  {
   "cell_type": "code",
   "execution_count": 58,
   "metadata": {},
   "outputs": [
    {
     "data": {
      "text/plain": [
       "81.51885343014918"
      ]
     },
     "execution_count": 58,
     "metadata": {},
     "output_type": "execute_result"
    }
   ],
   "source": [
    "percent_vo2max_to_percent_hrr((df.iloc[0]['average_heart_rate'] - FCR) / (FCM - FCR) * 100)"
   ]
  },
  {
   "cell_type": "code",
   "execution_count": 59,
   "metadata": {},
   "outputs": [
    {
     "data": {
      "text/plain": [
       "186.512"
      ]
     },
     "execution_count": 59,
     "metadata": {},
     "output_type": "execute_result"
    }
   ],
   "source": [
    "FCM"
   ]
  },
  {
   "cell_type": "code",
   "execution_count": 44,
   "metadata": {},
   "outputs": [],
   "source": [
    "import numpy as np\n",
    "import pandas as pd\n",
    "\n",
    "from src.utils import num_time_to_str_time\n",
    "\n",
    "vdot = 60\n",
    "\n",
    "df = pd.read_csv('data/interim/vdot-to-race-paces-coefficients.csv')\n",
    "df = df.reset_index()\n",
    "df['Distance'] = [42195, 21097, 15000, 10000, 5000, 3200, 3000, 1600, 1500][::-1]\n",
    "df = df.set_index('Distance')\n",
    "df['Time'] = df.Coef1 * vdot + df.Coef2 * vdot ** 2 + df.Coef3 * vdot ** 3 + df.Coef4 * vdot ** 4 + df.Intercept\n",
    "\n",
    "df = df.sort_values(by='Time', ascending=False)"
   ]
  },
  {
   "cell_type": "code",
   "execution_count": 80,
   "metadata": {},
   "outputs": [
    {
     "data": {
      "text/plain": [
       "[<matplotlib.lines.Line2D at 0xffff5e130fd0>]"
      ]
     },
     "execution_count": 80,
     "metadata": {},
     "output_type": "execute_result"
    },
    {
     "data": {
      "image/png": "[encoded data removed]",
      "text/plain": [
       "<Figure size 640x480 with 1 Axes>"
      ]
     },
     "metadata": {},
     "output_type": "display_data"
    }
   ],
   "source": [
    "import matplotlib.pyplot as plt\n",
    "\n",
    "coefficients = np.polyfit(df.index, df['Time'], 5)\n",
    "poly_function = np.poly1d(coefficients)\n",
    "\n",
    "plt.scatter(df.index, df['Time'])\n",
    "\n",
    "poly_data = poly_function(range(60000))\n",
    "plt.plot(range(60000), poly_data)"
   ]
  },
  {
   "cell_type": "code",
   "execution_count": 81,
   "metadata": {},
   "outputs": [
    {
     "data": {
      "text/plain": [
       "array([-1.50445974e-20,  1.11829466e-15, -3.31645603e-11,  1.17199341e-06,\n",
       "        2.06653860e-01, -3.68550687e+01])"
      ]
     },
     "execution_count": 81,
     "metadata": {},
     "output_type": "execute_result"
    }
   ],
   "source": [
    "coefficients"
   ]
  },
  {
   "cell_type": "code",
   "execution_count": 82,
   "metadata": {},
   "outputs": [
    {
     "data": {
      "text/plain": [
       "'2:47'"
      ]
     },
     "execution_count": 82,
     "metadata": {},
     "output_type": "execute_result"
    }
   ],
   "source": [
    "num_time_to_str_time(poly_function(100000))"
   ]
  },
  {
   "cell_type": "code",
   "execution_count": 50,
   "metadata": {},
   "outputs": [],
   "source": [
    "df['TimeStr'] = df.Time.apply(num_time_to_str_time)"
   ]
  },
  {
   "cell_type": "code",
   "execution_count": 130,
   "metadata": {},
   "outputs": [],
   "source": [
    "df = df.reset_index()\n",
    "df['Pace'] = df['Time'] / 60. / (df['Distance'] / 1000)"
   ]
  },
  {
   "cell_type": "code",
   "execution_count": 131,
   "metadata": {},
   "outputs": [
    {
     "data": {
      "text/plain": [
       "[<matplotlib.lines.Line2D at 0xffff45cb8290>]"
      ]
     },
     "execution_count": 131,
     "metadata": {},
     "output_type": "execute_result"
    },
    {
     "data": {
      "image/png": "[encoded data removed]",
      "text/plain": [
       "<Figure size 640x480 with 1 Axes>"
      ]
     },
     "metadata": {},
     "output_type": "display_data"
    }
   ],
   "source": [
    "plt.plot(df.Distance, df.Pace)"
   ]
  },
  {
   "cell_type": "code",
   "execution_count": 132,
   "metadata": {},
   "outputs": [
    {
     "data": {
      "text/plain": [
       "Text(0, 0.5, 'y')"
      ]
     },
     "execution_count": 132,
     "metadata": {},
     "output_type": "execute_result"
    },
    {
     "data": {
      "image/png": "[encoded data removed]",
      "text/plain": [
       "<Figure size 640x480 with 1 Axes>"
      ]
     },
     "metadata": {},
     "output_type": "display_data"
    }
   ],
   "source": [
    "from scipy.optimize import curve_fit\n",
    "\n",
    "x = df.Distance\n",
    "y = df.Pace\n",
    "\n",
    "# Transform the data by taking the logarithm\n",
    "log_x = np.log(x)\n",
    "log_y = np.log(y)\n",
    "\n",
    "# Fit a linear polynomial to the transformed data\n",
    "degree = 1  # Linear polynomial\n",
    "coefficients = np.polyfit(log_x, log_y, degree)\n",
    "\n",
    "# Calculate the coefficients for the original equation\n",
    "a = np.exp(coefficients[1])\n",
    "b = coefficients[0]\n",
    "\n",
    "# Create the fitted logarithmic function\n",
    "def logarithmic_fit(x):\n",
    "    return a * np.exp(b * x)\n",
    "\n",
    "# Plot the original data and the fitted curve\n",
    "plt.scatter(x, y, label='Original Data')\n",
    "plt.plot(range(500, 50000), logarithmic_fit(np.log(range(500, 50000))), color='red', label='Logarithmic Fit')\n",
    "plt.xlabel('x')\n",
    "plt.ylabel('y')"
   ]
  },
  {
   "cell_type": "code",
   "execution_count": 133,
   "metadata": {},
   "outputs": [],
   "source": [
    "def logarithmic_function(x, a, b):\n",
    "    return a + b * np.log(x)\n",
    "# Fit the curve\n",
    "initial_guess = (1, 1)  # Initial parameter guess\n",
    "params, covariance = curve_fit(logarithmic_function, x, y, p0=initial_guess)\n"
   ]
  },
  {
   "cell_type": "code",
   "execution_count": 134,
   "metadata": {},
   "outputs": [],
   "source": [
    "\n",
    "# Extract the fitted parameters\n",
    "a2, b2 = params\n",
    "\n",
    "# Create the fitted logarithmic function\n",
    "def fitted_logarithmic(x):\n",
    "    return a2 + b2 * np.log(x)"
   ]
  },
  {
   "cell_type": "code",
   "execution_count": 135,
   "metadata": {},
   "outputs": [
    {
     "data": {
      "image/png": "[encoded data removed]",
      "text/plain": [
       "<Figure size 640x480 with 1 Axes>"
      ]
     },
     "metadata": {},
     "output_type": "display_data"
    }
   ],
   "source": [
    "# Plot the original data and the fitted curve\n",
    "plt.scatter(x, y, label='Original Data')\n",
    "plt.plot(range(500, 50000), fitted_logarithmic(range(500, 50000)), color='red', label='Logarithmic Fit')\n",
    "# plt.plot(range(500, 50000), logarithmic_fit(np.log(range(500, 50000))), color='red', label='Logarithmic Fit')\n",
    "plt.xlabel('x')\n",
    "plt.ylabel('y')\n",
    "plt.legend()\n",
    "plt.show()"
   ]
  },
  {
   "cell_type": "code",
   "execution_count": 152,
   "metadata": {},
   "outputs": [
    {
     "data": {
      "image/png": "[encoded data removed]",
      "text/plain": [
       "<Figure size 640x480 with 1 Axes>"
      ]
     },
     "metadata": {},
     "output_type": "display_data"
    }
   ],
   "source": [
    "import numpy as np\n",
    "import matplotlib.pyplot as plt\n",
    "from scipy.optimize import curve_fit\n",
    "\n",
    "# Combined function with logarithmic and quadratic polynomial terms\n",
    "def combined_function(x, a, b, c, d):\n",
    "    return -a / x + b * x + c * x**2 + d\n",
    "\n",
    "# Fit the combined curve\n",
    "initial_guess = (1, 1, 1, 1)  # Initial parameter guess\n",
    "params, covariance = curve_fit(combined_function, x, y, p0=initial_guess)\n",
    "\n",
    "# Extract the fitted parameters\n",
    "a, b, c, d = params\n",
    "\n",
    "# Create the fitted combined function\n",
    "def fitted_combined(x):\n",
    "    x = np.array(x)\n",
    "    # return a * np.log(b * x) + c * x**2 + d\n",
    "    return -a / x + b * x + c * x**2 + d\n",
    "\n",
    "# Plot the original data and the fitted curve\n",
    "plt.scatter(x, y, label='Original Data')\n",
    "plt.plot(range(500, 60000), fitted_combined(range(500, 60000)), color='red', label='Combined Fit')\n",
    "plt.xlabel('x')\n",
    "plt.ylabel('y')\n",
    "plt.legend()\n",
    "plt.show()\n"
   ]
  },
  {
   "cell_type": "code",
   "execution_count": 156,
   "metadata": {},
   "outputs": [
    {
     "data": {
      "text/plain": [
       "9.41839853546611"
      ]
     },
     "execution_count": 156,
     "metadata": {},
     "output_type": "execute_result"
    }
   ],
   "source": [
    "(fitted_combined(800) * 0.8 - 2) * 60"
   ]
  },
  {
   "cell_type": "code",
   "execution_count": 129,
   "metadata": {},
   "outputs": [
    {
     "data": {
      "text/html": [
       "<div>\n",
       "<style scoped>\n",
       "    .dataframe tbody tr th:only-of-type {\n",
       "        vertical-align: middle;\n",
       "    }\n",
       "\n",
       "    .dataframe tbody tr th {\n",
       "        vertical-align: top;\n",
       "    }\n",
       "\n",
       "    .dataframe thead th {\n",
       "        text-align: right;\n",
       "    }\n",
       "</style>\n",
       "<table border=\"1\" class=\"dataframe\">\n",
       "  <thead>\n",
       "    <tr style=\"text-align: right;\">\n",
       "      <th></th>\n",
       "      <th>Distance</th>\n",
       "      <th>index</th>\n",
       "      <th>Intercept</th>\n",
       "      <th>Coef1</th>\n",
       "      <th>Coef2</th>\n",
       "      <th>Coef3</th>\n",
       "      <th>Coef4</th>\n",
       "      <th>Time</th>\n",
       "      <th>TimeStr</th>\n",
       "      <th>Pace</th>\n",
       "    </tr>\n",
       "  </thead>\n",
       "  <tbody>\n",
       "    <tr>\n",
       "      <th>0</th>\n",
       "      <td>42195</td>\n",
       "      <td>8</td>\n",
       "      <td>42412.877898</td>\n",
       "      <td>-1385.211599</td>\n",
       "      <td>23.849224</td>\n",
       "      <td>-0.205855</td>\n",
       "      <td>0.000704</td>\n",
       "      <td>9810.666572</td>\n",
       "      <td>2:43:31</td>\n",
       "      <td>0.232508</td>\n",
       "    </tr>\n",
       "    <tr>\n",
       "      <th>1</th>\n",
       "      <td>21097</td>\n",
       "      <td>7</td>\n",
       "      <td>21385.425813</td>\n",
       "      <td>-719.086428</td>\n",
       "      <td>12.517606</td>\n",
       "      <td>-0.108409</td>\n",
       "      <td>0.000371</td>\n",
       "      <td>4691.775313</td>\n",
       "      <td>118:12</td>\n",
       "      <td>0.222391</td>\n",
       "    </tr>\n",
       "    <tr>\n",
       "      <th>2</th>\n",
       "      <td>15000</td>\n",
       "      <td>6</td>\n",
       "      <td>15096.287182</td>\n",
       "      <td>-514.951211</td>\n",
       "      <td>9.052592</td>\n",
       "      <td>-0.078876</td>\n",
       "      <td>0.000271</td>\n",
       "      <td>3260.065141</td>\n",
       "      <td>54:20</td>\n",
       "      <td>0.217338</td>\n",
       "    </tr>\n",
       "    <tr>\n",
       "      <th>3</th>\n",
       "      <td>10000</td>\n",
       "      <td>5</td>\n",
       "      <td>9846.377922</td>\n",
       "      <td>-338.195784</td>\n",
       "      <td>5.986958</td>\n",
       "      <td>-0.052430</td>\n",
       "      <td>0.000181</td>\n",
       "      <td>2123.008249</td>\n",
       "      <td>35:23</td>\n",
       "      <td>0.212301</td>\n",
       "    </tr>\n",
       "    <tr>\n",
       "      <th>4</th>\n",
       "      <td>5000</td>\n",
       "      <td>4</td>\n",
       "      <td>4684.934538</td>\n",
       "      <td>-159.353411</td>\n",
       "      <td>2.808627</td>\n",
       "      <td>-0.024584</td>\n",
       "      <td>0.000085</td>\n",
       "      <td>1023.131492</td>\n",
       "      <td>17:03</td>\n",
       "      <td>0.204626</td>\n",
       "    </tr>\n",
       "    <tr>\n",
       "      <th>5</th>\n",
       "      <td>3200</td>\n",
       "      <td>3</td>\n",
       "      <td>2961.047490</td>\n",
       "      <td>-100.512960</td>\n",
       "      <td>1.755688</td>\n",
       "      <td>-0.015219</td>\n",
       "      <td>0.000052</td>\n",
       "      <td>637.047556</td>\n",
       "      <td>10:37</td>\n",
       "      <td>0.199077</td>\n",
       "    </tr>\n",
       "    <tr>\n",
       "      <th>6</th>\n",
       "      <td>3000</td>\n",
       "      <td>2</td>\n",
       "      <td>2754.111947</td>\n",
       "      <td>-93.546699</td>\n",
       "      <td>1.632166</td>\n",
       "      <td>-0.014130</td>\n",
       "      <td>0.000048</td>\n",
       "      <td>590.002362</td>\n",
       "      <td>9:50</td>\n",
       "      <td>0.196667</td>\n",
       "    </tr>\n",
       "    <tr>\n",
       "      <th>7</th>\n",
       "      <td>1600</td>\n",
       "      <td>1</td>\n",
       "      <td>1477.272197</td>\n",
       "      <td>-52.472555</td>\n",
       "      <td>0.942520</td>\n",
       "      <td>-0.008325</td>\n",
       "      <td>0.000029</td>\n",
       "      <td>297.552250</td>\n",
       "      <td>4:58</td>\n",
       "      <td>0.185970</td>\n",
       "    </tr>\n",
       "    <tr>\n",
       "      <th>8</th>\n",
       "      <td>1500</td>\n",
       "      <td>0</td>\n",
       "      <td>1361.928267</td>\n",
       "      <td>-48.170940</td>\n",
       "      <td>0.861648</td>\n",
       "      <td>-0.007580</td>\n",
       "      <td>0.000026</td>\n",
       "      <td>275.374691</td>\n",
       "      <td>4:35</td>\n",
       "      <td>0.183583</td>\n",
       "    </tr>\n",
       "  </tbody>\n",
       "</table>\n",
       "</div>"
      ],
      "text/plain": [
       "   Distance  index     Intercept        Coef1      Coef2     Coef3     Coef4  \\\n",
       "0     42195      8  42412.877898 -1385.211599  23.849224 -0.205855  0.000704   \n",
       "1     21097      7  21385.425813  -719.086428  12.517606 -0.108409  0.000371   \n",
       "2     15000      6  15096.287182  -514.951211   9.052592 -0.078876  0.000271   \n",
       "3     10000      5   9846.377922  -338.195784   5.986958 -0.052430  0.000181   \n",
       "4      5000      4   4684.934538  -159.353411   2.808627 -0.024584  0.000085   \n",
       "5      3200      3   2961.047490  -100.512960   1.755688 -0.015219  0.000052   \n",
       "6      3000      2   2754.111947   -93.546699   1.632166 -0.014130  0.000048   \n",
       "7      1600      1   1477.272197   -52.472555   0.942520 -0.008325  0.000029   \n",
       "8      1500      0   1361.928267   -48.170940   0.861648 -0.007580  0.000026   \n",
       "\n",
       "          Time  TimeStr      Pace  \n",
       "0  9810.666572  2:43:31  0.232508  \n",
       "1  4691.775313   118:12  0.222391  \n",
       "2  3260.065141    54:20  0.217338  \n",
       "3  2123.008249    35:23  0.212301  \n",
       "4  1023.131492    17:03  0.204626  \n",
       "5   637.047556    10:37  0.199077  \n",
       "6   590.002362     9:50  0.196667  \n",
       "7   297.552250     4:58  0.185970  \n",
       "8   275.374691     4:35  0.183583  "
      ]
     },
     "execution_count": 129,
     "metadata": {},
     "output_type": "execute_result"
    }
   ],
   "source": [
    "df"
   ]
  },
  {
   "cell_type": "code",
   "execution_count": null,
   "metadata": {},
   "outputs": [],
   "source": []
  }
 ],
 "metadata": {
  "kernelspec": {
   "display_name": ".venv",
   "language": "python",
   "name": "python3"
  },
  "language_info": {
   "codemirror_mode": {
    "name": "ipython",
    "version": 3
   },
   "file_extension": ".py",
   "mimetype": "text/x-python",
   "name": "python",
   "nbconvert_exporter": "python",
   "pygments_lexer": "ipython3",
   "version": "3.11.4"
  },
  "orig_nbformat": 4
 },
 "nbformat": 4,
 "nbformat_minor": 2
}
