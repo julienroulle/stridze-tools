{
 "cells": [
  {
   "cell_type": "code",
   "execution_count": null,
   "metadata": {},
   "outputs": [],
   "source": [
    "import os\n",
    "os.sys.path.insert(0, \"..\")\n",
    "\n",
    "import arviz\n",
    "import pandas as pd\n",
    "import matplotlib.pyplot as plt\n",
    "import numpy as np\n",
    "import pystan\n",
    "import seaborn as sns\n",
    "import stravalib\n",
    "from secret import *\n",
    "\n",
    "%matplotlib inline\n",
    "plt.rcParams[\"figure.figsize\"] = (10, 7)"
   ]
  },
  {
   "cell_type": "markdown",
   "metadata": {},
   "source": [
    "# GAP calculation\n",
    "\n",
    "## 1. Get data from the strava API"
   ]
  },
  {
   "cell_type": "code",
   "execution_count": null,
   "metadata": {},
   "outputs": [],
   "source": [
    "client = stravalib.Client()\n",
    "\n",
    "response = client.exchange_code_for_token(\n",
    "    CLIENT_ID,\n",
    "    CLIENT_SECRET,\n",
    "    CODE,\n",
    ")\n",
    "client.access_token = response[\"access_token\"]"
   ]
  },
  {
   "cell_type": "code",
   "execution_count": null,
   "metadata": {},
   "outputs": [],
   "source": [
    "%%capture\n",
    "activities = client.get_activities()\n",
    "runs = (ai for ai in activities if ai.type == \"Run\" and ai.manual == False)\n",
    "\n",
    "speed = []\n",
    "elevation = []\n",
    "distance = []\n",
    "date = []\n",
    "\n",
    "for run in runs:\n",
    "    x = client.get_activity(run.id)\n",
    "    speed.append(x.average_speed)\n",
    "    elevation.append(x.total_elevation_gain)\n",
    "    distance.append(x.distance)\n",
    "    date.append(x.start_date)\n",
    "\n",
    "speed = np.array([s.num for s in speed])\n",
    "elevation = np.array([e.num for e in elevation])\n",
    "distance = np.array([d.num for d in distance])\n",
    "date = np.array([date])\n",
    "\n",
    "ind = distance > 5000.0\n",
    "speed, elevation, distance, date = (\n",
    "    speed[ind][::-1], \n",
    "    elevation[ind][::-1], \n",
    "    distance[ind][::-1], \n",
    "    date.ravel()[ind][::-1]\n",
    ")"
   ]
  },
  {
   "cell_type": "code",
   "execution_count": null,
   "metadata": {},
   "outputs": [],
   "source": [
    "pd.DataFrame(\n",
    "    {\n",
    "        \"speed\": speed,\n",
    "        \"elevation\": elevation,\n",
    "        \"distance\": distance,\n",
    "        \"date\": date,\n",
    "    }\n",
    ").to_csv(\"strava_data.csv\")"
   ]
  },
  {
   "cell_type": "markdown",
   "metadata": {},
   "source": [
    "## 2. Plot the data"
   ]
  },
  {
   "cell_type": "code",
   "execution_count": null,
   "metadata": {},
   "outputs": [],
   "source": [
    "fig, ax = plt.subplots(figsize=(14, 10))\n",
    "plt.scatter(np.log(distance), np.log(speed), c=elevation)\n",
    "plt.xlabel(\"log(distance)\", fontsize=20)\n",
    "plt.ylabel(\"log(speed) (m/s)\", fontsize=20)\n",
    "cb = plt.colorbar()\n",
    "cb.set_label(\"elevation gain (m)\", size=20)\n",
    "plt.savefig(\"distance_vs_speed.png\")"
   ]
  },
  {
   "cell_type": "markdown",
   "metadata": {},
   "source": [
    "## 3. Simple statistical model\n",
    "\n",
    "$$\\log v\\sim \\mathcal{N}(\\alpha + \\beta_{\\mathrm{elev}}\\log (\\mathrm{elev} + 10) + \\beta_{\\mathrm{dist}}\\log (\\mathrm{dist}),\\, \\sigma)$$"
   ]
  },
  {
   "cell_type": "code",
   "execution_count": null,
   "metadata": {},
   "outputs": [],
   "source": [
    "stan_code = \"\"\"\n",
    "data {\n",
    "  int n;\n",
    "  vector[n] log_speed;\n",
    "  vector[n] elevation_gain;\n",
    "  vector[n] log_distance;\n",
    "}\n",
    "parameters {\n",
    "  real beta_elevation;\n",
    "  real beta_distance;\n",
    "  real sigma;\n",
    "}\n",
    "transformed parameters {\n",
    "  vector[n] z = beta_elevation * elevation_gain + beta_distance * log_distance;\n",
    "}\n",
    "model {\n",
    "  beta_elevation ~ normal(0, 1);\n",
    "  beta_distance ~ normal(0, 1);\n",
    "  sigma ~ normal(0, 5);\n",
    "  log_speed ~ normal(z, sigma);\n",
    "}\n",
    "generated quantities {\n",
    "  vector[n] log_speed_rep;\n",
    "  for (i in 1:n) {\n",
    "    log_speed_rep[i] = normal_rng(z[i], sigma);\n",
    "  }\n",
    "}\n",
    "\"\"\"\n",
    "\n",
    "model = pystan.StanModel(model_code=stan_code)"
   ]
  },
  {
   "cell_type": "code",
   "execution_count": null,
   "metadata": {},
   "outputs": [],
   "source": [
    "log_speed = np.log(speed)\n",
    "whitened_log_speed = (log_speed - log_speed.mean()) / log_speed.std()\n",
    "whitened_elevation_gain = (np.log(elevation + 10) - np.log(elevation + 10).mean()) / np.log(elevation + 10).std()\n",
    "whitened_distance = (np.log(distance) - np.log(distance).mean()) / np.log(distance).std()\n",
    "\n",
    "stan_data = {\n",
    "    \"n\": len(speed),\n",
    "    \"log_speed\": whitened_log_speed,\n",
    "    \"elevation_gain\": whitened_elevation_gain,\n",
    "    \"log_distance\": whitened_distance\n",
    "}\n",
    "\n",
    "fit = model.sampling(stan_data)"
   ]
  },
  {
   "cell_type": "code",
   "execution_count": null,
   "metadata": {},
   "outputs": [],
   "source": [
    "fig, ax = plt.subplots(1, 2, figsize=(15, 5))\n",
    "sns.distplot(fit[\"beta_distance\"], ax=ax[0], kde=False, color=\"r\")\n",
    "sns.distplot(fit[\"beta_elevation\"], ax=ax[1], kde=False, color=\"b\")\n",
    "ax[0].set_xlabel(r\"$\\beta_\\mathrm{distance}$\", fontsize=20)\n",
    "ax[1].set_xlabel(r\"$\\beta_\\mathrm{elevation}$\", fontsize=20)\n",
    "for axi in ax:\n",
    "    axi.yaxis.set_visible(False)\n",
    "    \n",
    "plt.tight_layout()\n",
    "plt.savefig(\"model_params.png\")"
   ]
  },
  {
   "cell_type": "code",
   "execution_count": null,
   "metadata": {},
   "outputs": [],
   "source": [
    "dfs = []\n",
    "for i in range(len(speed)):\n",
    "    dfs.append(pd.DataFrame(\n",
    "        {\"x\": np.tile(i, 4000), \n",
    "         \"y\": (\n",
    "             whitened_log_speed[i] - fit[\"log_speed_rep\"][:, i]\n",
    "         )\n",
    "        }\n",
    "    ))\n",
    "\n",
    "sns.violinplot(x=\"x\", y=\"y\", data=pd.concat(dfs))\n",
    "plt.gca().xaxis.set_visible(False)\n",
    "plt.ylabel(r\"$\\log(\\mathrm{speed}) - \\log(\\mathrm{speed})_\\mathrm{rep}$\", size=20)\n",
    "plt.axhline(1.0, ls=\"--\", c=\"r\")\n",
    "plt.axhline(-1.0, ls=\"--\", c=\"r\")\n",
    "plt.axhline(2.0, ls=\"--\", c=\"r\")\n",
    "plt.axhline(-2.0, ls=\"--\", c=\"r\")\n",
    "plt.savefig(\"residuals_simple.png\")"
   ]
  },
  {
   "cell_type": "markdown",
   "metadata": {},
   "source": [
    "## 4. Calculate \"GAP\"\n",
    "\n",
    "Calculate GAP as \n",
    "\n",
    "$$\\mathbb{E}[\\log v - \\beta_\\mathrm{elev}\\mathrm{elev}]$$"
   ]
  },
  {
   "cell_type": "code",
   "execution_count": null,
   "metadata": {},
   "outputs": [],
   "source": [
    "def transform_elevation(g):\n",
    "    return (np.log(g + 10) - np.log(elevation + 10).mean()) / np.log(elevation + 10).std()\n",
    "\n",
    "def sample_gap(v, g):\n",
    "    return v + fit[\"beta_elevation\"] * (transform_elevation(0.0) - g)\n",
    "\n",
    "def mean_gap(v, g):\n",
    "    return sample_gap(v, g).mean()\n",
    "\n",
    "def inverse_transform_gap(gap):\n",
    "    return np.exp(gap * np.log(speed).std() + np.log(speed).mean())\n",
    "\n",
    "def ms_to_minkm(speed):\n",
    "    return 1000 / 60 / speed\n",
    "\n",
    "gap = inverse_transform_gap(\n",
    "    np.array([sample_gap(vi, gi) for vi, gi in zip(whitened_log_speed, whitened_elevation_gain)])\n",
    ")"
   ]
  },
  {
   "cell_type": "code",
   "execution_count": null,
   "metadata": {},
   "outputs": [],
   "source": [
    "fig, ax = plt.subplots(figsize=(15,7))\n",
    "\n",
    "colors = np.log(elevation)\n",
    "colors -= colors.min()\n",
    "colors *=  (1./colors.max())\n",
    "\n",
    "scatter_plot = plt.scatter(\n",
    "    ms_to_minkm(speed), \n",
    "    ms_to_minkm(gap).mean(axis=1), \n",
    "    c=elevation,\n",
    "    cmap=\"plasma\",\n",
    "    edgecolors=\"k\"\n",
    ")\n",
    "cb = plt.colorbar(scatter_plot)\n",
    "cb.set_label(label=\"elevation gain (m)\",size=20)\n",
    "\n",
    "_, __, errorlinecollection = plt.errorbar(\n",
    "    ms_to_minkm(speed), \n",
    "    ms_to_minkm(gap).mean(axis=1), \n",
    "    yerr=2 * ms_to_minkm(gap).std(axis=1),\n",
    "    marker=\"\",\n",
    "    ls=\"none\",\n",
    "    zorder=0,\n",
    "    ecolor=\"0.5\",\n",
    "    alpha=0.5,\n",
    "    capsize=5\n",
    ")\n",
    "\n",
    "ax.set_ylabel(\"GAP (minutes per km)\", size=20)\n",
    "ax.set_xlabel(\"pace (minutes per km)\", size=20);\n",
    "plt.plot(\n",
    "    [ms_to_minkm(speed).min(), ms_to_minkm(speed).max()], \n",
    "    [ms_to_minkm(speed).min(), ms_to_minkm(speed).max()],\n",
    "    zorder=0,\n",
    "    ls=\"--\",\n",
    "    c=\"0.6\"\n",
    ")\n",
    "\n",
    "plt.tight_layout()\n",
    "plt.savefig(\"gap_vs_true.png\")"
   ]
  },
  {
   "cell_type": "code",
   "execution_count": null,
   "metadata": {},
   "outputs": [],
   "source": [
    "fig, ax = plt.subplots(figsize=(10, 7))\n",
    "ind = elevation.argmax()\n",
    "sns.distplot(ms_to_minkm(gap[ind]), kde=False)\n",
    "plt.axvline(4.78, ls=\"--\", label=\"strava GAP\", c=\"k\")\n",
    "plt.axvline(ms_to_minkm(speed[ind]), label=\"actual average pace\", c=\"0.3\", ls=\"-.\")\n",
    "plt.xlabel(\"GAP (minutes per km)\", fontsize=20)\n",
    "plt.legend(loc=\"upper left\", fontsize=15)\n",
    "ax.yaxis.set_visible(False)\n",
    "plt.savefig(\"gap_vs_strava.png\")"
   ]
  },
  {
   "cell_type": "markdown",
   "metadata": {},
   "source": [
    "Issue: elevation gain just says how much you went up, not how much you came down! But this is probably fine since nearly 100% of my runs are loops, so it is given that I go up as much as I come down."
   ]
  },
  {
   "cell_type": "code",
   "execution_count": null,
   "metadata": {},
   "outputs": [],
   "source": [
    "plt.scatter(elevation, distance / 1000, c=1000 / (60 * speed))\n",
    "plt.xlabel(\"elevation gain (m)\", fontsize=20)\n",
    "plt.ylabel(\"distance (km)\", fontsize=20)\n",
    "plt.tight_layout()\n",
    "plt.ylim((2.0, 22.0))\n",
    "cb = plt.colorbar()\n",
    "cb.set_label(label=\"pace (min per km)\", size=20)\n",
    "plt.savefig(\"distance_vs_elevation.png\")"
   ]
  },
  {
   "cell_type": "markdown",
   "metadata": {},
   "source": [
    "## Inferring fitness over time"
   ]
  },
  {
   "cell_type": "code",
   "execution_count": null,
   "metadata": {},
   "outputs": [],
   "source": [
    "hierarchical_stan_code = \"\"\"\n",
    "data {\n",
    "  int n;\n",
    "  vector[n] log_speed;\n",
    "  vector[n] elevation_gain;\n",
    "  vector[n] log_distance;\n",
    "}\n",
    "parameters {\n",
    "  real beta_elevation;\n",
    "  real beta_distance;\n",
    "  real<lower=0> sigma;\n",
    "  vector[n] fitness_std;\n",
    "  real<lower=0> sigma_rw;\n",
    "}\n",
    "transformed parameters {\n",
    "  vector[n] fitness;\n",
    "  vector[n] z;\n",
    "  fitness[1] = fitness_std[1];\n",
    "  for (i in 2:n) {\n",
    "    fitness[i] = fitness_std[i] * sigma_rw + fitness[i - 1];\n",
    "  }\n",
    "  \n",
    "  z = fitness + beta_elevation * elevation_gain + beta_distance * log_distance;\n",
    "}\n",
    "model {\n",
    "  beta_elevation ~ normal(0, 1);\n",
    "  beta_distance ~ normal(0, 1);\n",
    "  sigma ~ normal(0, 1);\n",
    "  log_speed ~ normal(z, sigma);\n",
    "  fitness_std ~ normal(0, 1);\n",
    "  sigma_rw ~ normal(0, 1);\n",
    "}\n",
    "generated quantities {\n",
    "  vector[n] log_speed_rep;\n",
    "  for (i in 1:n) {\n",
    "    log_speed_rep[i] = normal_rng(z[i], sigma);\n",
    "  }\n",
    "}\n",
    "\"\"\"\n",
    "\n",
    "hierarchical_model = pystan.StanModel(model_code=hierarchical_stan_code)"
   ]
  },
  {
   "cell_type": "code",
   "execution_count": null,
   "metadata": {},
   "outputs": [],
   "source": [
    "fit_hierarchical = hierarchical_model.sampling(data=stan_data, control={\"adapt_delta\": 0.99}, iter=8000, warmup=7000)"
   ]
  },
  {
   "cell_type": "code",
   "execution_count": null,
   "metadata": {},
   "outputs": [],
   "source": [
    "fig, ax = plt.subplots(figsize=(12, 7))\n",
    "pd_date = pd.Series(date)\n",
    "ax.fill_between(\n",
    "    pd_date,\n",
    "    np.percentile(fit_hierarchical[\"fitness\"], 16, axis=0),\n",
    "    np.percentile(fit_hierarchical[\"fitness\"], 84, axis=0),\n",
    "    color=\"0.7\"\n",
    ")\n",
    "ax.plot_date(\n",
    "    pd_date,\n",
    "    np.percentile(fit_hierarchical[\"fitness\"], 50, axis=0),\n",
    "    c=\"k\"\n",
    ")\n",
    "ax.set_ylabel(\"Fitness\", size=20)\n",
    "ax.set_xlabel(\"Date\", size=20)\n",
    "ax.axvline(\"2019-05-19\", ls=\"--\", c=\"r\", label=\"half marathon pb (1)\", lw=3)\n",
    "ax.axvline(\"2019-06-08\", ls=\"--\", c=\"k\", label=\"half marathon pb (2)\", lw=3)\n",
    "ax.axvline(\"2018-09-09\", ls=\"--\", c=\"y\", label=\"injury\", lw=3)\n",
    "ax.axvline(\"2018-07-14\", ls=\"--\", c=\"g\", label=\"5km pb\", lw=3)\n",
    "ax.legend(prop={\"size\": 15})\n",
    "fig.tight_layout()\n",
    "plt.savefig(\"fitness_trend.png\")"
   ]
  },
  {
   "cell_type": "markdown",
   "metadata": {},
   "source": [
    "## Posterior predictive checks"
   ]
  },
  {
   "cell_type": "code",
   "execution_count": null,
   "metadata": {},
   "outputs": [],
   "source": [
    "dfs = []\n",
    "for i in range(len(speed)):\n",
    "    dfs.append(pd.DataFrame(\n",
    "        {\"x\": np.tile(i, 4000), \n",
    "         \"y\": (\n",
    "             whitened_log_speed[i] - fit_hierarchical[\"log_speed_rep\"][:, i]\n",
    "         )\n",
    "        }\n",
    "    ))\n",
    "\n",
    "sns.violinplot(x=\"x\", y=\"y\", data=pd.concat(dfs))\n",
    "plt.gca().xaxis.set_visible(False)\n",
    "plt.ylabel(r\"$\\log(\\mathrm{speed}) - \\log(\\mathrm{speed})_\\mathrm{rep}$\", size=20)\n",
    "plt.axhline(1.0, ls=\"--\", c=\"r\")\n",
    "plt.axhline(-1.0, ls=\"--\", c=\"r\")\n",
    "plt.axhline(2.0, ls=\"--\", c=\"r\")\n",
    "plt.axhline(-2.0, ls=\"--\", c=\"r\")\n",
    "plt.savefig(\"residuals.png\")"
   ]
  }
 ],
 "metadata": {
  "kernelspec": {
   "display_name": "Python 3",
   "language": "python",
   "name": "python3"
  },
  "language_info": {
   "codemirror_mode": {
    "name": "ipython",
    "version": 3
   },
   "file_extension": ".py",
   "mimetype": "text/x-python",
   "name": "python",
   "nbconvert_exporter": "python",
   "pygments_lexer": "ipython3",
   "version": "3.7.4"
  }
 },
 "nbformat": 4,
 "nbformat_minor": 2
}
