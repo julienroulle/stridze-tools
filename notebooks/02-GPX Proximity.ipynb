{
 "cells": [
  {
   "cell_type": "code",
   "execution_count": 5,
   "metadata": {},
   "outputs": [],
   "source": [
    "import pandas as pd\n",
    "import numpy as np\n",
    "import scipy\n",
    "from geopy.distance import geodesic\n",
    "from stridze.db import engine\n",
    "\n",
    "conn = engine.connect()\n",
    "df = pd.read_sql_table('strava', conn)"
   ]
  },
  {
   "cell_type": "code",
   "execution_count": 6,
   "metadata": {},
   "outputs": [
    {
     "name": "stdout",
     "output_type": "stream",
     "text": [
      "6023053\n"
     ]
    }
   ],
   "source": [
    "print(len(df))"
   ]
  },
  {
   "cell_type": "code",
   "execution_count": 49,
   "metadata": {},
   "outputs": [
    {
     "data": {
      "text/plain": [
       "user_id\n",
       "42265442    1436\n",
       "73182431     307\n",
       "Name: activity_id, dtype: int64"
      ]
     },
     "execution_count": 49,
     "metadata": {},
     "output_type": "execute_result"
    }
   ],
   "source": [
    "df.groupby('user_id').activity_id.nunique()"
   ]
  },
  {
   "cell_type": "code",
   "execution_count": 50,
   "metadata": {},
   "outputs": [],
   "source": [
    "def calculate_distance(points):\n",
    "    distance = 0.0\n",
    "    previous_point = None\n",
    "\n",
    "    for point in points:\n",
    "        if previous_point is not None:\n",
    "            distance += geodesic((previous_point[0], previous_point[1]),\n",
    "                                    (point[0], point[1])).meters\n",
    "        previous_point = point\n",
    "\n",
    "    return distance"
   ]
  },
  {
   "cell_type": "code",
   "execution_count": 51,
   "metadata": {},
   "outputs": [],
   "source": [
    "df.timestamp = pd.to_datetime(df.timestamp)\n",
    "df['date'] = df.timestamp.dt.date"
   ]
  },
  {
   "cell_type": "code",
   "execution_count": 52,
   "metadata": {},
   "outputs": [],
   "source": [
    "df = df.drop(columns=['id'])\n",
    "df = df.drop_duplicates()"
   ]
  },
  {
   "cell_type": "code",
   "execution_count": 53,
   "metadata": {},
   "outputs": [],
   "source": [
    "matching_activities = pd.DataFrame()\n",
    "\n",
    "for date, elt in df.groupby('date'):\n",
    "    nb_users = elt.user_id.nunique()\n",
    "\n",
    "    if nb_users == 2:\n",
    "        user_1_activities = elt[elt.user_id == elt.user_id.unique()[0]].activity_id.unique()\n",
    "        user_2_activities = elt[elt.user_id == elt.user_id.unique()[1]].activity_id.unique()\n",
    "\n",
    "        activities = [(x, y) for y in user_1_activities for x in user_2_activities]\n",
    "\n",
    "        # activities = elt.activity_id.unique()\n",
    "\n",
    "        # print(f\"Found {len(activities)} activities for {date}\")\n",
    "        for activity in activities:\n",
    "            new_activity = pd.DataFrame({\n",
    "                'date': [date],\n",
    "                'activity_id_1': [activity[0]],\n",
    "                'activity_id_2': [activity[1]],\n",
    "                'type': [elt.loc[elt.activity_id == activity[0], 'activity_type'].unique()[0]],\n",
    "            })\n",
    "            # print(f\"New activity : {new_activity}\")\n",
    "            matching_activities = pd.concat([matching_activities, new_activity], ignore_index=True)\n",
    "matching_activities = matching_activities.drop(columns=['date']).drop_duplicates()\n"
   ]
  },
  {
   "cell_type": "code",
   "execution_count": 54,
   "metadata": {},
   "outputs": [
    {
     "name": "stdout",
     "output_type": "stream",
     "text": [
      "Median distance between 4670838236 and 4670723147 : 143656.7594719834 meters\n",
      "Median distance between 5157593429 and 5157585529 : 1962.3235129513291 meters\n",
      "Median distance between 5340009315 and 5341315641 : 181316.91943952692 meters\n",
      "Median distance between 5532926182 and 5524221230 : 1179.6821739352606 meters\n",
      "Median distance between 5539489686 and 5524221230 : 1472.7917829824466 meters\n",
      "Median distance between 5916329836 and 5917506587 : 496319.2901455315 meters\n",
      "Median distance between 6094935414 and 6097618767 : 396668.37787461985 meters\n",
      "Median distance between 6239447479 and 6239460793 : 16198.897453413125 meters\n",
      "Median distance between 6582032274 and 6606037911 : 3838.754223754637 meters\n",
      "Median distance between 6714347368 and 6713965757 : 82627.79012016782 meters\n",
      "Median distance between 6714345574 and 6713965757 : 118569.1415803875 meters\n",
      "Median distance between 6743337143 and 6743311070 : 740111.1624274104 meters\n",
      "Median distance between 6903934431 and 6904003689 : 13168.632148962852 meters\n",
      "Median distance between 6935893004 and 6936060200 : 24416.816496372237 meters\n",
      "Median distance between 7029268428 and 7029027959 : 2986419.585598074 meters\n",
      "Median distance between 7057627449 and 7051632538 : 2854596.370645173 meters\n",
      "Median distance between 7078843012 and 7078448425 : 3280671.055124295 meters\n",
      "Median distance between 7084473382 and 7083797234 : 3354444.6037823115 meters\n",
      "Median distance between 7089875241 and 7087631484 : 3366176.818170049 meters\n",
      "Median distance between 7095176804 and 7094538586 : 3295467.5183221283 meters\n",
      "Median distance between 7144117496 and 7137562233 : 3627553.2551297206 meters\n",
      "Median distance between 7154017567 and 7148801282 : 3816313.3607821194 meters\n",
      "Median distance between 7180952523 and 7192305184 : 4154509.0634866813 meters\n",
      "Median distance between 7197796189 and 7192293698 : 4037583.374270419 meters\n",
      "Median distance between 7197810911 and 7192293698 : 4033883.3915062207 meters\n",
      "Median distance between 7197812977 and 7192276323 : 4038433.800235689 meters\n",
      "Median distance between 7218666824 and 7217692596 : 3864361.3725867607 meters\n",
      "Median distance between 7287928983 and 7298182217 : 3685615.6068191226 meters\n",
      "Median distance between 7545587079 and 7543860712 : 6014463.897739571 meters\n",
      "Median distance between 7578774936 and 7578508864 : 5801.765420288033 meters\n",
      "Median distance between 7644835850 and 7645023796 : 5581.796047035636 meters\n",
      "Median distance between 7661295135 and 7661891763 : 12779.537463777926 meters\n",
      "Median distance between 7732339632 and 7732321186 : 12442.795862856332 meters\n",
      "Median distance between 7732339386 and 7732321186 : 12182.857488002688 meters\n",
      "Median distance between 7825065384 and 7825058845 : 1009.3205103419771 meters\n",
      "Median distance between 8102620905 and 8103855636 : 5293789.09446935 meters\n",
      "Median distance between 8113501789 and 8114803439 : 5289952.562673161 meters\n",
      "Median distance between 8113501614 and 8114803439 : 5292382.3849204285 meters\n",
      "Median distance between 8302930646 and 8304586388 : 5310319.696805089 meters\n",
      "Median distance between 8302930646 and 8304589703 : 5312117.763876434 meters\n",
      "Median distance between 8307572981 and 8308995530 : 5193267.245574227 meters\n",
      "Median distance between 8389077168 and 8392851024 : 4936678.843192143 meters\n",
      "Median distance between 8418286176 and 8420001989 : 5295722.276214414 meters\n",
      "Median distance between 8432369682 and 8435221264 : 5257048.895994729 meters\n",
      "Median distance between 8432366961 and 8435221264 : 5256275.632166885 meters\n",
      "Median distance between 8510361631 and 8513092574 : 4935249.747199864 meters\n",
      "Median distance between 8547513675 and 8549868658 : 5287279.5661141295 meters\n",
      "Median distance between 8735829723 and 8777020722 : 6050604.222521078 meters\n",
      "Median distance between 8885305563 and 8886315072 : 5292886.319830877 meters\n",
      "Median distance between 8935447402 and 8937702825 : 5277951.895032137 meters\n",
      "Median distance between 9026888889 and 9028302420 : 5289432.501269645 meters\n",
      "Median distance between 9041452355 and 9042582066 : 5287755.153379556 meters\n",
      "Median distance between 9053704232 and 9054672505 : 5289592.004421216 meters\n",
      "Median distance between 9095968490 and 9097144072 : 5291193.777169771 meters\n",
      "Median distance between 9108251785 and 9116636095 : 5012540.174854185 meters\n",
      "Median distance between 9133265895 and 9135090573 : 5286507.140506953 meters\n",
      "Median distance between 9183974231 and 9178926720 : 5251197.9294155175 meters\n",
      "Median distance between 9269434352 and 9279101215 : 7831814.823457329 meters\n",
      "Median distance between 9308562296 and 9310523664 : 5288561.521728603 meters\n",
      "Median distance between 9351683167 and 9353274995 : 5292407.619429993 meters\n",
      "Median distance between 9363536727 and 9364530009 : 5202022.890735518 meters\n",
      "Median distance between 9409935724 and 9412491232 : 5289812.957780329 meters\n",
      "Median distance between 9724462486 and 9732799198 : 4898030.549491827 meters\n",
      "Median distance between 9724462448 and 9732799198 : 4898263.100681718 meters\n",
      "Median distance between 9724462343 and 9732799198 : 4898935.508806552 meters\n",
      "Median distance between 9724462593 and 9732799198 : 4900802.284021691 meters\n",
      "Median distance between 9724462383 and 9732799198 : 4899600.539532088 meters\n",
      "Median distance between 9724462406 and 9732799198 : 4901580.267794956 meters\n",
      "Median distance between 9724462426 and 9732799198 : 4901431.517625156 meters\n",
      "Median distance between 9724462187 and 9732799198 : 4900891.236012157 meters\n",
      "Median distance between 9724462161 and 9732799198 : 4900596.9237774275 meters\n",
      "Median distance between 9724462350 and 9732799198 : 4900228.349102528 meters\n",
      "Median distance between 9724462233 and 9732799198 : 4899855.748142982 meters\n",
      "Median distance between 9724462008 and 9732799198 : 4900202.698944544 meters\n",
      "Median distance between 9724462056 and 9732799198 : 4900024.894178655 meters\n",
      "Median distance between 9724462061 and 9732799198 : 4900131.862360048 meters\n",
      "Median distance between 9729653610 and 9732788372 : 4895700.674138176 meters\n",
      "Median distance between 9757607328 and 9759221959 : 5290165.444995964 meters\n",
      "Median distance between 9757607357 and 9759221959 : 5293188.760398923 meters\n",
      "Median distance between 9757607369 and 9759221959 : 5290239.516382667 meters\n",
      "Median distance between 9824094136 and 9820320590 : 5277211.124615579 meters\n",
      "Median distance between 9824094136 and 9820307543 : 5276647.4224103475 meters\n",
      "Median distance between 9929445928 and 9929716239 : 313049.03036877746 meters\n"
     ]
    }
   ],
   "source": [
    "result = pd.DataFrame()\n",
    "\n",
    "for idx, row in matching_activities.iterrows():\n",
    "    activity_1 = df.loc[df.activity_id == row.activity_id_1]\n",
    "    activity_2 = df.loc[df.activity_id == row.activity_id_2]\n",
    "\n",
    "    track1 = activity_1[['latitude', 'longitude']].values\n",
    "    track2 = activity_2[['latitude', 'longitude']].values\n",
    "\n",
    "    activity = pd.merge(activity_1, activity_2, on='timestamp', how='inner')\n",
    "    if activity.empty:\n",
    "        # print(\"No matching coordinates found\")\n",
    "        continue\n",
    "    activity['distance'] = activity.apply(lambda row: geodesic((row.latitude_x, row.longitude_x), (row.latitude_y, row.longitude_y)).meters, axis=1)\n",
    "    if activity.distance.median() < 500:\n",
    "        new_activity = pd.DataFrame({\n",
    "            'activity_id_1': [row.activity_id_1],\n",
    "            'activity_id_2': [row.activity_id_2],\n",
    "            'type': [row.type],\n",
    "            'distance': [calculate_distance(activity[['latitude_x', 'longitude_x']].values) / 1000.],\n",
    "        })\n",
    "        result = pd.concat([result, new_activity], ignore_index=True)\n",
    "    else:\n",
    "        print(f\"Median distance between {row.activity_id_1} and {row.activity_id_2} : {activity.distance.median()} meters\")\n",
    "    # for idx in range(gpx_len):\n",
    "    #     distance = geodesic(track1[idx], track2[idx]).meters\n",
    "    #     time_difference = abs((activity_1.timestamp.iloc[idx] - activity_2.timestamp.iloc[idx]).total_seconds())\n",
    "    #     if (distance <= radius and time_difference <= delay):\n",
    "    #         matching_coordinates.append(track1[idx])\n",
    "    #     else: print(f\"No match found for this point {distance} meters away, {time_difference} seconds away\")\n",
    "    # distance = calculate_distance(matching_coordinates)\n",
    "    # print(f\"Distance between {row.activity_id_1} and {row.activity_id_2} : {distance} meters\")"
   ]
  },
  {
   "cell_type": "code",
   "execution_count": 65,
   "metadata": {},
   "outputs": [
    {
     "data": {
      "text/html": [
       "<div>\n",
       "<style scoped>\n",
       "    .dataframe tbody tr th:only-of-type {\n",
       "        vertical-align: middle;\n",
       "    }\n",
       "\n",
       "    .dataframe tbody tr th {\n",
       "        vertical-align: top;\n",
       "    }\n",
       "\n",
       "    .dataframe thead th {\n",
       "        text-align: right;\n",
       "    }\n",
       "</style>\n",
       "<table border=\"1\" class=\"dataframe\">\n",
       "  <thead>\n",
       "    <tr style=\"text-align: right;\">\n",
       "      <th></th>\n",
       "      <th>Distance (km)</th>\n",
       "      <th>Activities (#)</th>\n",
       "    </tr>\n",
       "    <tr>\n",
       "      <th>type</th>\n",
       "      <th></th>\n",
       "      <th></th>\n",
       "    </tr>\n",
       "  </thead>\n",
       "  <tbody>\n",
       "    <tr>\n",
       "      <th>Run</th>\n",
       "      <td>598</td>\n",
       "      <td>41</td>\n",
       "    </tr>\n",
       "    <tr>\n",
       "      <th>Ride</th>\n",
       "      <td>239</td>\n",
       "      <td>4</td>\n",
       "    </tr>\n",
       "    <tr>\n",
       "      <th>TrailRun</th>\n",
       "      <td>215</td>\n",
       "      <td>6</td>\n",
       "    </tr>\n",
       "    <tr>\n",
       "      <th>Hike</th>\n",
       "      <td>151</td>\n",
       "      <td>11</td>\n",
       "    </tr>\n",
       "    <tr>\n",
       "      <th>NordicSki</th>\n",
       "      <td>115</td>\n",
       "      <td>5</td>\n",
       "    </tr>\n",
       "    <tr>\n",
       "      <th>Canoeing</th>\n",
       "      <td>52</td>\n",
       "      <td>1</td>\n",
       "    </tr>\n",
       "    <tr>\n",
       "      <th>AlpineSki</th>\n",
       "      <td>23</td>\n",
       "      <td>1</td>\n",
       "    </tr>\n",
       "    <tr>\n",
       "      <th>Walk</th>\n",
       "      <td>20</td>\n",
       "      <td>2</td>\n",
       "    </tr>\n",
       "    <tr>\n",
       "      <th>total</th>\n",
       "      <td>1416</td>\n",
       "      <td>71</td>\n",
       "    </tr>\n",
       "  </tbody>\n",
       "</table>\n",
       "</div>"
      ],
      "text/plain": [
       "           Distance (km)  Activities (#)\n",
       "type                                    \n",
       "Run                  598              41\n",
       "Ride                 239               4\n",
       "TrailRun             215               6\n",
       "Hike                 151              11\n",
       "NordicSki            115               5\n",
       "Canoeing              52               1\n",
       "AlpineSki             23               1\n",
       "Walk                  20               2\n",
       "total               1416              71"
      ]
     },
     "execution_count": 65,
     "metadata": {},
     "output_type": "execute_result"
    }
   ],
   "source": [
    "m = result.groupby('type').agg(['sum','count'])['distance']\n",
    "# m = result.groupby('type').sum()[['distance']]\n",
    "m = m.sort_values('sum', ascending=False)\n",
    "m.loc['total']=m.sum()\n",
    "m = m.rename(columns={'sum': 'Distance (km)', 'count': 'Activities (#)'})\n",
    "m = m.astype(int)\n",
    "m"
   ]
  },
  {
   "cell_type": "code",
   "execution_count": 66,
   "metadata": {},
   "outputs": [
    {
     "data": {
      "text/html": [
       "<div>\n",
       "<style scoped>\n",
       "    .dataframe tbody tr th:only-of-type {\n",
       "        vertical-align: middle;\n",
       "    }\n",
       "\n",
       "    .dataframe tbody tr th {\n",
       "        vertical-align: top;\n",
       "    }\n",
       "\n",
       "    .dataframe thead th {\n",
       "        text-align: right;\n",
       "    }\n",
       "</style>\n",
       "<table border=\"1\" class=\"dataframe\">\n",
       "  <thead>\n",
       "    <tr style=\"text-align: right;\">\n",
       "      <th></th>\n",
       "      <th>activity_id_1</th>\n",
       "      <th>activity_id_2</th>\n",
       "      <th>type</th>\n",
       "      <th>distance</th>\n",
       "    </tr>\n",
       "  </thead>\n",
       "  <tbody>\n",
       "    <tr>\n",
       "      <th>1</th>\n",
       "      <td>4269030781</td>\n",
       "      <td>4421264323</td>\n",
       "      <td>Walk</td>\n",
       "      <td>7.580504</td>\n",
       "    </tr>\n",
       "    <tr>\n",
       "      <th>5</th>\n",
       "      <td>4434970701</td>\n",
       "      <td>4435056210</td>\n",
       "      <td>Walk</td>\n",
       "      <td>12.579076</td>\n",
       "    </tr>\n",
       "  </tbody>\n",
       "</table>\n",
       "</div>"
      ],
      "text/plain": [
       "   activity_id_1  activity_id_2  type   distance\n",
       "1     4269030781     4421264323  Walk   7.580504\n",
       "5     4434970701     4435056210  Walk  12.579076"
      ]
     },
     "execution_count": 66,
     "metadata": {},
     "output_type": "execute_result"
    }
   ],
   "source": [
    "result.loc[result.type =='Walk']"
   ]
  },
  {
   "cell_type": "code",
   "execution_count": 33,
   "metadata": {},
   "outputs": [],
   "source": [
    "import stravalib"
   ]
  },
  {
   "cell_type": "code",
   "execution_count": 193,
   "metadata": {},
   "outputs": [],
   "source": [
    "client = stravalib.Client('2422d447c0c50c458349ba4280c26208efbdbf3e')"
   ]
  },
  {
   "cell_type": "code",
   "execution_count": 202,
   "metadata": {},
   "outputs": [
    {
     "data": {
      "text/plain": [
       "{'access_token': '2422d447c0c50c458349ba4280c26208efbdbf3e',\n",
       " 'refresh_token': '474ef6ea5b89d58c88de5303d21d69599748c94d',\n",
       " 'expires_at': 1696882110}"
      ]
     },
     "execution_count": 202,
     "metadata": {},
     "output_type": "execute_result"
    }
   ],
   "source": [
    "client.refresh_access_token('66078', '8f136bd4e4b40ce3591293ec8c282114c34e5219', '474ef6ea5b89d58c88de5303d21d69599748c94d')"
   ]
  },
  {
   "cell_type": "code",
   "execution_count": null,
   "metadata": {},
   "outputs": [],
   "source": []
  }
 ],
 "metadata": {
  "kernelspec": {
   "display_name": ".venv",
   "language": "python",
   "name": "python3"
  },
  "language_info": {
   "codemirror_mode": {
    "name": "ipython",
    "version": 3
   },
   "file_extension": ".py",
   "mimetype": "text/x-python",
   "name": "python",
   "nbconvert_exporter": "python",
   "pygments_lexer": "ipython3",
   "version": "3.11.6"
  },
  "orig_nbformat": 4
 },
 "nbformat": 4,
 "nbformat_minor": 2
}
