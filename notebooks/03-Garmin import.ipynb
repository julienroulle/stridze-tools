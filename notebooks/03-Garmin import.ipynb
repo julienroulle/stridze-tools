{
 "cells": [
  {
   "cell_type": "code",
   "execution_count": 2,
   "metadata": {},
   "outputs": [],
   "source": [
    "from garminconnect import Garmin\n",
    "import fitdecode\n",
    "import zipfile\n",
    "import io"
   ]
  },
  {
   "cell_type": "code",
   "execution_count": 3,
   "metadata": {},
   "outputs": [],
   "source": [
    "client = Garmin(\"ju.roulle@gmail.com\", \"Julien35830\")\n",
    "client.login()\n",
    "activities = client.get_activities(0, 1)"
   ]
  },
  {
   "cell_type": "code",
   "execution_count": 4,
   "metadata": {},
   "outputs": [],
   "source": [
    "activity = activities[0]\n",
    "activity_id = activity[\"activityId\"]"
   ]
  },
  {
   "cell_type": "code",
   "execution_count": 6,
   "metadata": {},
   "outputs": [],
   "source": [
    "data = client.download_activity(activity_id, dl_fmt=client.ActivityDownloadFormat.ORIGINAL)\n",
    "\n",
    "with zipfile.ZipFile(io.BytesIO(data), \"r\") as zip_file:\n",
    "\n",
    "    for file_name in zip_file.namelist():\n",
    "        file_content = zip_file.read(file_name)\n",
    "        \n",
    "        # Extract all files in the zip archive into the memory file\n",
    "        memory_file = io.BytesIO()\n",
    "\n",
    "        # Read the contents of the extracted file into an io.BytesIO buffer\n",
    "        memory_file.write(file_content)\n",
    "\n",
    "        # Reset the memory file's position to the beginning\n",
    "        memory_file.seek(0)\n",
    "        with fitdecode.FitReader(memory_file) as fit_file:\n",
    "            for frame in fit_file:\n",
    "                if frame.frame_type == fitdecode.FIT_FRAME_DATA:\n",
    "                    if frame.name == 'record':\n",
    "                        break"
   ]
  },
  {
   "cell_type": "code",
   "execution_count": null,
   "metadata": {},
   "outputs": [],
   "source": []
  }
 ],
 "metadata": {
  "kernelspec": {
   "display_name": ".venv",
   "language": "python",
   "name": "python3"
  },
  "language_info": {
   "codemirror_mode": {
    "name": "ipython",
    "version": 3
   },
   "file_extension": ".py",
   "mimetype": "text/x-python",
   "name": "python",
   "nbconvert_exporter": "python",
   "pygments_lexer": "ipython3",
   "version": "3.11.5"
  },
  "orig_nbformat": 4
 },
 "nbformat": 4,
 "nbformat_minor": 2
}
