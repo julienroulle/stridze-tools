{
 "cells": [
  {
   "cell_type": "code",
   "execution_count": 9,
   "metadata": {},
   "outputs": [],
   "source": [
    "from garminconnect import Garmin\n",
    "import fitdecode\n",
    "import zipfile\n",
    "import io"
   ]
  },
  {
   "cell_type": "code",
   "execution_count": 7,
   "metadata": {},
   "outputs": [],
   "source": [
    "client = Garmin(\"ju.roulle@gmail.com\", \"Julien35830\")\n",
    "client.login()\n",
    "activities = client.get_activities(0, 1)"
   ]
  },
  {
   "cell_type": "code",
   "execution_count": 8,
   "metadata": {},
   "outputs": [],
   "source": [
    "activity = activities[0]\n",
    "activity_id = activity[\"activityId\"]"
   ]
  },
  {
   "cell_type": "code",
   "execution_count": 37,
   "metadata": {},
   "outputs": [
    {
     "name": "stdout",
     "output_type": "stream",
     "text": [
      "['12260855787_ACTIVITY.fit']\n",
      "New data frame file_id with 7 fields\n",
      "New data frame file_creator with 5 fields\n",
      "New data frame unknown_288 with 4 fields\n",
      "New data frame unknown_327 with 8 fields\n",
      "New data frame unknown_326 with 3 fields\n",
      "New data frame unknown_327 with 8 fields\n",
      "New data frame unknown_326 with 3 fields\n",
      "New data frame event with 7 fields\n",
      "New data frame device_info with 28 fields\n",
      "New data frame device_info with 28 fields\n",
      "New data frame device_info with 28 fields\n",
      "New data frame device_info with 28 fields\n",
      "New data frame device_info with 28 fields\n",
      "New data frame device_info with 28 fields\n",
      "New data frame device_info with 28 fields\n",
      "New data frame device_info with 28 fields\n",
      "New data frame unknown_22 with 11 fields\n",
      "New data frame unknown_141 with 5 fields\n",
      "New data frame device_settings with 107 fields\n",
      "New data frame user_profile with 36 fields\n",
      "New data frame unknown_147 with 65 fields\n",
      "New data frame unknown_147 with 65 fields\n",
      "New data frame unknown_147 with 65 fields\n",
      "New data frame unknown_147 with 65 fields\n",
      "New data frame unknown_147 with 65 fields\n",
      "New data frame unknown_79 with 39 fields\n",
      "New data frame sport with 13 fields\n",
      "New data frame unknown_13 with 75 fields\n",
      "New data frame zones_target with 13 fields\n",
      "New data frame record with 19 fields\n"
     ]
    }
   ],
   "source": [
    "data = client.download_activity(activity_id, dl_fmt=client.ActivityDownloadFormat.ORIGINAL)\n",
    "\n",
    "with zipfile.ZipFile(io.BytesIO(data), \"r\") as zip_file:\n",
    "    # Read the contents of the extracted file into an io.BytesIO buffer\n",
    "    memory_file = io.BytesIO()\n",
    "    print(zip_file.namelist())\n",
    "    # Extract all files in the zip archive into the memory file\n",
    "    for file_name in zip_file.namelist():\n",
    "        file_content = zip_file.read(file_name)\n",
    "        memory_file.write(file_content)\n",
    "    # Reset the memory file's position to the beginning\n",
    "    memory_file.seek(0)\n",
    "    with fitdecode.FitReader(memory_file) as fit_file:\n",
    "        for frame in fit_file:\n",
    "            if frame.frame_type == fitdecode.FIT_FRAME_DATA:\n",
    "                print(f\"New data frame {frame.name} with {len(frame.fields)} fields\")\n",
    "                if frame.name == 'record':\n",
    "                    break"
   ]
  },
  {
   "cell_type": "code",
   "execution_count": 38,
   "metadata": {},
   "outputs": [
    {
     "data": {
      "text/plain": [
       "['__class__',\n",
       " '__delattr__',\n",
       " '__dir__',\n",
       " '__doc__',\n",
       " '__eq__',\n",
       " '__format__',\n",
       " '__ge__',\n",
       " '__getattribute__',\n",
       " '__getstate__',\n",
       " '__gt__',\n",
       " '__hash__',\n",
       " '__init__',\n",
       " '__init_subclass__',\n",
       " '__iter__',\n",
       " '__le__',\n",
       " '__lt__',\n",
       " '__module__',\n",
       " '__ne__',\n",
       " '__new__',\n",
       " '__reduce__',\n",
       " '__reduce_ex__',\n",
       " '__repr__',\n",
       " '__setattr__',\n",
       " '__sizeof__',\n",
       " '__slots__',\n",
       " '__str__',\n",
       " '__subclasshook__',\n",
       " 'chunk',\n",
       " 'def_mesg',\n",
       " 'fields',\n",
       " 'frame_type',\n",
       " 'get_field',\n",
       " 'get_fields',\n",
       " 'get_raw_value',\n",
       " 'get_value',\n",
       " 'get_values',\n",
       " 'global_mesg_num',\n",
       " 'has_field',\n",
       " 'is_developer_data',\n",
       " 'local_mesg_num',\n",
       " 'mesg_type',\n",
       " 'name',\n",
       " 'time_offset']"
      ]
     },
     "execution_count": 38,
     "metadata": {},
     "output_type": "execute_result"
    }
   ],
   "source": [
    "dir(frame)"
   ]
  },
  {
   "cell_type": "code",
   "execution_count": 39,
   "metadata": {},
   "outputs": [],
   "source": [
    "frame.time_offset\n"
   ]
  },
  {
   "cell_type": "code",
   "execution_count": 42,
   "metadata": {},
   "outputs": [
    {
     "name": "stdout",
     "output_type": "stream",
     "text": [
      "timestamp\n",
      "position_lat\n",
      "position_long\n",
      "distance\n",
      "enhanced_speed\n",
      "enhanced_altitude\n",
      "vertical_oscillation\n",
      "stance_time_percent\n",
      "stance_time\n",
      "vertical_ratio\n",
      "stance_time_balance\n",
      "step_length\n",
      "unknown_87\n",
      "heart_rate\n",
      "cadence\n",
      "temperature\n",
      "activity_type\n",
      "fractional_cadence\n",
      "unknown_134\n"
     ]
    }
   ],
   "source": [
    "for field in frame.fields:\n",
    "    print(field.name)"
   ]
  },
  {
   "cell_type": "code",
   "execution_count": null,
   "metadata": {},
   "outputs": [],
   "source": []
  }
 ],
 "metadata": {
  "kernelspec": {
   "display_name": ".venv",
   "language": "python",
   "name": "python3"
  },
  "language_info": {
   "codemirror_mode": {
    "name": "ipython",
    "version": 3
   },
   "file_extension": ".py",
   "mimetype": "text/x-python",
   "name": "python",
   "nbconvert_exporter": "python",
   "pygments_lexer": "ipython3",
   "version": "3.11.5"
  },
  "orig_nbformat": 4
 },
 "nbformat": 4,
 "nbformat_minor": 2
}
